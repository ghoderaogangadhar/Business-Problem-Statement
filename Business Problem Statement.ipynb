{
 "cells": [
  {
   "cell_type": "markdown",
   "id": "e880098a-cffc-41c7-b8ce-c009d5e90387",
   "metadata": {},
   "source": [
    "#Section A\n",
    "1.HealthCare Plus recorded the daily number of patient admissions for the past 10 days:"
   ]
  },
  {
   "cell_type": "code",
   "execution_count": 2,
   "id": "0a24caa5-9f4e-403a-85aa-71ae43c3967a",
   "metadata": {},
   "outputs": [],
   "source": [
    "import pandas as pd \n",
    "import numpy as np\n",
    "from scipy import stats"
   ]
  },
  {
   "cell_type": "code",
   "execution_count": 3,
   "id": "2da6ecf8-571e-4662-98c5-16d15741063f",
   "metadata": {},
   "outputs": [
    {
     "data": {
      "text/plain": [
       "30.9"
      ]
     },
     "execution_count": 3,
     "metadata": {},
     "output_type": "execute_result"
    }
   ],
   "source": [
    "#● Compute the mean, median, and mode of patient admissions.\n",
    "\n",
    "number_of_patient_admissions_for_the_past_10_days=[32, 28, 35, 30, 29, 27, 31, 34, 33, 30]\n",
    "mean=np.mean(number_of_patient_admissions_for_the_past_10_days)     #(32+28+35+30+29+27+31+34+33+30)/10=mean\n",
    "mean"
   ]
  },
  {
   "cell_type": "markdown",
   "id": "da46f6e7-fb59-4f63-b421-c7d87669c549",
   "metadata": {},
   "source": [
    "median=[32, 28, 35, 30, 29, 27, 31, 34, 33, 30]  #(29+27)/2=median"
   ]
  },
  {
   "cell_type": "code",
   "execution_count": 5,
   "id": "bd6ed39d-73a1-45e9-af34-da5a63aa11d5",
   "metadata": {},
   "outputs": [
    {
     "data": {
      "text/plain": [
       "30.5"
      ]
     },
     "execution_count": 5,
     "metadata": {},
     "output_type": "execute_result"
    }
   ],
   "source": [
    "number_of_patient_admissions_for_the_past_10_days=[32, 28, 35, 30, 29, 27, 31, 34, 33, 30]\n",
    "median=np.median(number_of_patient_admissions_for_the_past_10_days)            \n",
    "median"
   ]
  },
  {
   "cell_type": "markdown",
   "id": "d40d89ea-ebc4-4db1-9eaa-bca536a6fbd0",
   "metadata": {},
   "source": [
    "mode=30, two times observation"
   ]
  },
  {
   "cell_type": "code",
   "execution_count": 7,
   "id": "310e406d-ceb9-4e5a-be1e-b821f1b13a27",
   "metadata": {},
   "outputs": [
    {
     "data": {
      "text/plain": [
       "ModeResult(mode=30, count=2)"
      ]
     },
     "execution_count": 7,
     "metadata": {},
     "output_type": "execute_result"
    }
   ],
   "source": [
    "\n",
    "number_of_patient_admissions_for_the_past_10_days=[32, 28, 35, 30, 29, 27, 31, 34, 33, 30]\n",
    "mode=stats.mode(number_of_patient_admissions_for_the_past_10_days)\n",
    "mode"
   ]
  },
  {
   "cell_type": "markdown",
   "id": "3d41fc18-ae95-4c52-b637-def2506bae20",
   "metadata": {},
   "source": [
    "● Which measure best represents patient admissions?"
   ]
  },
  {
   "cell_type": "code",
   "execution_count": 9,
   "id": "f13ae317-8160-4cbe-8c6e-46d4192c3d80",
   "metadata": {},
   "outputs": [],
   "source": [
    "#ans=mean=30.9 is the best patient admission"
   ]
  },
  {
   "cell_type": "markdown",
   "id": "98900240-eaea-4b53-821b-528685308f80",
   "metadata": {},
   "source": [
    "● If the hospital increases its admission capacity by 10%, how will this affect the\n",
    "measures of central tendency?\n"
   ]
  },
  {
   "cell_type": "code",
   "execution_count": 11,
   "id": "94c609c9-9bbc-4737-b983-b11684682cae",
   "metadata": {},
   "outputs": [
    {
     "data": {
      "text/plain": [
       "33.99"
      ]
     },
     "execution_count": 11,
     "metadata": {},
     "output_type": "execute_result"
    }
   ],
   "source": [
    "original = [32, 28, 35, 30, 29, 27, 31, 34, 33, 30]\n",
    "increased = [x * 1.10 for x in original]       # increased 10% admission capacity\n",
    "mean=np.mean(increased)\n",
    "mean"
   ]
  },
  {
   "cell_type": "code",
   "execution_count": 12,
   "id": "2d6fc694-a5f5-4a23-9e59-fa38a3196493",
   "metadata": {},
   "outputs": [
    {
     "data": {
      "text/plain": [
       "33.55"
      ]
     },
     "execution_count": 12,
     "metadata": {},
     "output_type": "execute_result"
    }
   ],
   "source": [
    "original = [32, 28, 35, 30, 29, 27, 31, 34, 33, 30]\n",
    "increased = [x * 1.10 for x in original]       # increased 10% admission capacity\n",
    "median=np.median(increased)\n",
    "median"
   ]
  },
  {
   "cell_type": "code",
   "execution_count": 13,
   "id": "aa07c684-4877-4f5b-9f65-91fc283f80a7",
   "metadata": {},
   "outputs": [
    {
     "data": {
      "text/plain": [
       "ModeResult(mode=33.0, count=2)"
      ]
     },
     "execution_count": 13,
     "metadata": {},
     "output_type": "execute_result"
    }
   ],
   "source": [
    "original = [32, 28, 35, 30, 29, 27, 31, 34, 33, 30]\n",
    "increased = [x * 1.10 for x in original]       # increased 10% admission capacity\n",
    "mode=stats.mode(increased)\n",
    "mode"
   ]
  },
  {
   "cell_type": "markdown",
   "id": "765e3fcd-e43f-4749-b336-d707efe3e64c",
   "metadata": {},
   "source": [
    "2. The recovery duration (in days) of 10 patients who underwent the same surgery is\n",
    "recorded as follows:\n",
    "[5, 7, 6, 8, 9, 5, 6, 7, 8, 6]\n"
   ]
  },
  {
   "cell_type": "markdown",
   "id": "2d001b98-a039-4057-a403-6b84d75689c3",
   "metadata": {},
   "source": [
    "range=max_value-min_value"
   ]
  },
  {
   "cell_type": "code",
   "execution_count": 16,
   "id": "1220bf47-75a3-441a-9094-b6cd64fb58d0",
   "metadata": {},
   "outputs": [],
   "source": [
    "#Range\n",
    "The_recovery_duration_in_days_of_10_patients=[5, 7, 6, 8, 9, 5, 6, 7, 8, 6]"
   ]
  },
  {
   "cell_type": "code",
   "execution_count": 17,
   "id": "7b24d8d4-4c56-41aa-bfb9-d6ae5d53c66c",
   "metadata": {},
   "outputs": [
    {
     "data": {
      "text/plain": [
       "4"
      ]
     },
     "execution_count": 17,
     "metadata": {},
     "output_type": "execute_result"
    }
   ],
   "source": [
    "The_recovery_duration_in_days_of_10_patients_range = max(The_recovery_duration_in_days_of_10_patients)-min(The_recovery_duration_in_days_of_10_patients)\n",
    "The_recovery_duration_in_days_of_10_patients_range"
   ]
  },
  {
   "cell_type": "markdown",
   "id": "b6393519-f70d-4b80-b4b2-3d043e25b464",
   "metadata": {},
   "source": []
  },
  {
   "cell_type": "code",
   "execution_count": 19,
   "id": "a13d05ce-8f12-4fe0-81cb-74ea9d8de8e1",
   "metadata": {},
   "outputs": [
    {
     "data": {
      "text/plain": [
       "1.61"
      ]
     },
     "execution_count": 19,
     "metadata": {},
     "output_type": "execute_result"
    }
   ],
   "source": [
    "\n",
    "variance=np.var(The_recovery_duration_in_days_of_10_patients)\n",
    "variance"
   ]
  },
  {
   "cell_type": "code",
   "execution_count": 20,
   "id": "0901b9c7-6d17-4423-9e2c-c2ffcb63c723",
   "metadata": {},
   "outputs": [
    {
     "data": {
      "text/plain": [
       "1.2688577540449522"
      ]
     },
     "execution_count": 20,
     "metadata": {},
     "output_type": "execute_result"
    }
   ],
   "source": [
    "std_dev=np.std(The_recovery_duration_in_days_of_10_patients)\n",
    "std_dev"
   ]
  },
  {
   "cell_type": "markdown",
   "id": "bb335da5-2370-4656-b9d3-901c2e4ae270",
   "metadata": {},
   "source": [
    "● If two new patients take 4 and 10 days to recover, how will this impact the\n",
    "standard deviation?"
   ]
  },
  {
   "cell_type": "code",
   "execution_count": 22,
   "id": "387f105c-0a70-4232-927e-2a4547ec30c5",
   "metadata": {},
   "outputs": [],
   "source": [
    "The_recovery_duration_in_days_of_12_patients_2=[5, 7, 6, 8, 9, 5, 6, 7, 8, 6,4,10]"
   ]
  },
  {
   "cell_type": "code",
   "execution_count": 23,
   "id": "838dc6cd-271d-401f-a4d6-7e9d4874cbfe",
   "metadata": {},
   "outputs": [],
   "source": [
    "std_dev2=np.std(The_recovery_duration_in_days_of_12_patients_2)"
   ]
  },
  {
   "cell_type": "code",
   "execution_count": 24,
   "id": "5bc87929-e8af-488f-b28d-ec38a05ac9f8",
   "metadata": {},
   "outputs": [
    {
     "data": {
      "text/plain": [
       "1.689427911059441"
      ]
     },
     "execution_count": 24,
     "metadata": {},
     "output_type": "execute_result"
    }
   ],
   "source": [
    "std_dev2"
   ]
  },
  {
   "cell_type": "markdown",
   "id": "ced4b01f-6f7b-450e-aac3-87fd24695a53",
   "metadata": {},
   "source": [
    "3. Patient satisfaction scores (on a scale of 1 to 10) collected from a hospital survey\n",
    "are:\n",
    "[8, 9, 7, 8, 10, 7, 9, 6, 10, 8, 7, 9]\n"
   ]
  },
  {
   "cell_type": "markdown",
   "id": "7c96d3b5-70f8-4925-8bc4-b67c07586c72",
   "metadata": {},
   "source": [
    "● Compute skewness and kurtosis.\n"
   ]
  },
  {
   "cell_type": "code",
   "execution_count": 27,
   "id": "105e3fac-4ab6-4865-95b2-ab466f8720d7",
   "metadata": {},
   "outputs": [],
   "source": [
    "from scipy.stats import skew, kurtosis\n",
    "\n",
    "Patient_satisfaction_scores=[8, 9, 7, 8, 10, 7, 9, 6, 10, 8, 7, 9]"
   ]
  },
  {
   "cell_type": "code",
   "execution_count": 28,
   "id": "f358b06b-11c3-4273-b303-b4897a58d777",
   "metadata": {},
   "outputs": [
    {
     "data": {
      "text/plain": [
       "-0.04146734005998014"
      ]
     },
     "execution_count": 28,
     "metadata": {},
     "output_type": "execute_result"
    }
   ],
   "source": [
    "skewness=skew(Patient_satisfaction_scores)\n",
    "#kurtosis=kurtosis(Patient_satisfaction_scores)\n",
    "skewness"
   ]
  },
  {
   "cell_type": "code",
   "execution_count": 29,
   "id": "c9c403eb-9b01-4214-9b66-b8c450676ea3",
   "metadata": {},
   "outputs": [
    {
     "data": {
      "text/plain": [
       "-1.0145959416162336"
      ]
     },
     "execution_count": 29,
     "metadata": {},
     "output_type": "execute_result"
    }
   ],
   "source": [
    "kurtosis=kurtosis(Patient_satisfaction_scores)\n",
    "kurtosis"
   ]
  },
  {
   "cell_type": "markdown",
   "id": "94c7c1fe-1043-4f4d-a74d-c3907d30fac7",
   "metadata": {},
   "source": [
    "4. HealthCare Plus wants to analyze the relationship between nurse staffing levels and \n",
    "patient recovery time. Data from 6 hospital departments is provided:\n"
   ]
  },
  {
   "cell_type": "code",
   "execution_count": 31,
   "id": "5728e4db-d490-437c-a6a4-bb862cfba612",
   "metadata": {},
   "outputs": [],
   "source": [
    "data={\"Number of Nurses\":[10,12,15,18,20,22], \n",
    "      \"Average Recovery Time (days)\":[8,7,6,5,4,3]}"
   ]
  },
  {
   "cell_type": "code",
   "execution_count": 32,
   "id": "49be9bb8-d4d5-4b54-92b0-6b3effb6cede",
   "metadata": {},
   "outputs": [
    {
     "data": {
      "text/html": [
       "<div>\n",
       "<style scoped>\n",
       "    .dataframe tbody tr th:only-of-type {\n",
       "        vertical-align: middle;\n",
       "    }\n",
       "\n",
       "    .dataframe tbody tr th {\n",
       "        vertical-align: top;\n",
       "    }\n",
       "\n",
       "    .dataframe thead th {\n",
       "        text-align: right;\n",
       "    }\n",
       "</style>\n",
       "<table border=\"1\" class=\"dataframe\">\n",
       "  <thead>\n",
       "    <tr style=\"text-align: right;\">\n",
       "      <th></th>\n",
       "      <th>Number of Nurses</th>\n",
       "      <th>Average Recovery Time (days)</th>\n",
       "    </tr>\n",
       "  </thead>\n",
       "  <tbody>\n",
       "    <tr>\n",
       "      <th>0</th>\n",
       "      <td>10</td>\n",
       "      <td>8</td>\n",
       "    </tr>\n",
       "    <tr>\n",
       "      <th>1</th>\n",
       "      <td>12</td>\n",
       "      <td>7</td>\n",
       "    </tr>\n",
       "    <tr>\n",
       "      <th>2</th>\n",
       "      <td>15</td>\n",
       "      <td>6</td>\n",
       "    </tr>\n",
       "    <tr>\n",
       "      <th>3</th>\n",
       "      <td>18</td>\n",
       "      <td>5</td>\n",
       "    </tr>\n",
       "    <tr>\n",
       "      <th>4</th>\n",
       "      <td>20</td>\n",
       "      <td>4</td>\n",
       "    </tr>\n",
       "    <tr>\n",
       "      <th>5</th>\n",
       "      <td>22</td>\n",
       "      <td>3</td>\n",
       "    </tr>\n",
       "  </tbody>\n",
       "</table>\n",
       "</div>"
      ],
      "text/plain": [
       "   Number of Nurses  Average Recovery Time (days)\n",
       "0                10                             8\n",
       "1                12                             7\n",
       "2                15                             6\n",
       "3                18                             5\n",
       "4                20                             4\n",
       "5                22                             3"
      ]
     },
     "execution_count": 32,
     "metadata": {},
     "output_type": "execute_result"
    }
   ],
   "source": [
    "df=pd.DataFrame(data)\n",
    "df"
   ]
  },
  {
   "cell_type": "code",
   "execution_count": 33,
   "id": "9996ea0f-4f43-472d-87e6-179d965e2c85",
   "metadata": {},
   "outputs": [
    {
     "data": {
      "text/plain": [
       "Number of Nurses                16.166667\n",
       "Average Recovery Time (days)     5.500000\n",
       "dtype: float64"
      ]
     },
     "execution_count": 33,
     "metadata": {},
     "output_type": "execute_result"
    }
   ],
   "source": [
    "df.mean()"
   ]
  },
  {
   "cell_type": "code",
   "execution_count": 34,
   "id": "d8cc0adb-02cb-4a0c-9b82-70a295d61c48",
   "metadata": {},
   "outputs": [
    {
     "data": {
      "text/plain": [
       "Number of Nurses    97\n",
       "dtype: int64"
      ]
     },
     "execution_count": 34,
     "metadata": {},
     "output_type": "execute_result"
    }
   ],
   "source": [
    "df[[\"Number of Nurses\"]].sum()"
   ]
  },
  {
   "cell_type": "code",
   "execution_count": 35,
   "id": "fa316735-1830-44a6-bb0c-6c881a401047",
   "metadata": {},
   "outputs": [
    {
     "data": {
      "text/plain": [
       "Average Recovery Time (days)    33\n",
       "dtype: int64"
      ]
     },
     "execution_count": 35,
     "metadata": {},
     "output_type": "execute_result"
    }
   ],
   "source": [
    "df[[\"Average Recovery Time (days)\"]].sum()"
   ]
  },
  {
   "cell_type": "code",
   "execution_count": 36,
   "id": "a4bef935-0e2e-4aa4-a866-302dfa98dc72",
   "metadata": {},
   "outputs": [],
   "source": [
    "corr_metrix = df.corr()"
   ]
  },
  {
   "cell_type": "code",
   "execution_count": 37,
   "id": "1245fa9d-bdb3-4cb9-aa1a-029579bf9091",
   "metadata": {},
   "outputs": [
    {
     "data": {
      "text/html": [
       "<div>\n",
       "<style scoped>\n",
       "    .dataframe tbody tr th:only-of-type {\n",
       "        vertical-align: middle;\n",
       "    }\n",
       "\n",
       "    .dataframe tbody tr th {\n",
       "        vertical-align: top;\n",
       "    }\n",
       "\n",
       "    .dataframe thead th {\n",
       "        text-align: right;\n",
       "    }\n",
       "</style>\n",
       "<table border=\"1\" class=\"dataframe\">\n",
       "  <thead>\n",
       "    <tr style=\"text-align: right;\">\n",
       "      <th></th>\n",
       "      <th>Number of Nurses</th>\n",
       "      <th>Average Recovery Time (days)</th>\n",
       "    </tr>\n",
       "  </thead>\n",
       "  <tbody>\n",
       "    <tr>\n",
       "      <th>Number of Nurses</th>\n",
       "      <td>1.000000</td>\n",
       "      <td>-0.996757</td>\n",
       "    </tr>\n",
       "    <tr>\n",
       "      <th>Average Recovery Time (days)</th>\n",
       "      <td>-0.996757</td>\n",
       "      <td>1.000000</td>\n",
       "    </tr>\n",
       "  </tbody>\n",
       "</table>\n",
       "</div>"
      ],
      "text/plain": [
       "                              Number of Nurses  Average Recovery Time (days)\n",
       "Number of Nurses                      1.000000                     -0.996757\n",
       "Average Recovery Time (days)         -0.996757                      1.000000"
      ]
     },
     "execution_count": 37,
     "metadata": {},
     "output_type": "execute_result"
    }
   ],
   "source": [
    "corr_metrix"
   ]
  },
  {
   "cell_type": "code",
   "execution_count": 38,
   "id": "91d9563f-54a5-479f-94e7-d04674c2e630",
   "metadata": {},
   "outputs": [
    {
     "data": {
      "text/plain": [
       "Number of Nurses                1.000000\n",
       "Average Recovery Time (days)   -0.996757\n",
       "Name: Number of Nurses, dtype: float64"
      ]
     },
     "execution_count": 38,
     "metadata": {},
     "output_type": "execute_result"
    }
   ],
   "source": [
    "corr_metrix[\"Number of Nurses\"]"
   ]
  },
  {
   "cell_type": "code",
   "execution_count": 39,
   "id": "680245e6-9f66-47ef-accd-cd1842f4d967",
   "metadata": {},
   "outputs": [
    {
     "data": {
      "text/plain": [
       "Number of Nurses               -0.996757\n",
       "Average Recovery Time (days)    1.000000\n",
       "Name: Average Recovery Time (days), dtype: float64"
      ]
     },
     "execution_count": 39,
     "metadata": {},
     "output_type": "execute_result"
    }
   ],
   "source": [
    "corr_metrix[\"Average Recovery Time (days)\"]"
   ]
  },
  {
   "cell_type": "markdown",
   "id": "d9d327b6-0841-429c-b987-a5bec300e07f",
   "metadata": {},
   "source": [
    "##Section B "
   ]
  },
  {
   "cell_type": "markdown",
   "id": "8a91981b-ee07-4edc-961c-f41bb9d1c47b",
   "metadata": {},
   "source": [
    "5. The hospital claims that the average patient wait time in the emergency department \n",
    "is 30 minutes. A sample of 10 patient wait times (in minutes) is recorded: "
   ]
  },
  {
   "cell_type": "code",
   "execution_count": 74,
   "id": "6cd36734-9e27-41af-9383-a86d370ca7e2",
   "metadata": {},
   "outputs": [],
   "source": [
    "import numpy as np\n",
    "from scipy import stats\n",
    "\n",
    "# Sample data\n",
    "the_average_patient_wait_time = [32, 29, 31, 34, 33, 27, 30, 28, 35, 26]\n"
   ]
  },
  {
   "cell_type": "code",
   "execution_count": 76,
   "id": "9bb37ed9-be4c-4610-b086-5d0081d70508",
   "metadata": {},
   "outputs": [
    {
     "data": {
      "text/plain": [
       "[32, 29, 31, 34, 33, 27, 30, 28, 35, 26]"
      ]
     },
     "execution_count": 76,
     "metadata": {},
     "output_type": "execute_result"
    }
   ],
   "source": [
    "the_average_patient_wait_time"
   ]
  },
  {
   "cell_type": "code",
   "execution_count": 78,
   "id": "c48e43e6-2208-457e-8a06-1d612826d82b",
   "metadata": {},
   "outputs": [
    {
     "data": {
      "text/plain": [
       "(0.5222329678670935, 0.614117254808394)"
      ]
     },
     "execution_count": 78,
     "metadata": {},
     "output_type": "execute_result"
    }
   ],
   "source": [
    "t_stat, p_value = stats.ttest_1samp(the_average_patient_wait_time, popmean=30)\n",
    "t_stat, p_value"
   ]
  },
  {
   "cell_type": "code",
   "execution_count": 80,
   "id": "02fd853c-284b-448a-aa1a-a73cee30100c",
   "metadata": {},
   "outputs": [
    {
     "name": "stdout",
     "output_type": "stream",
     "text": [
      "T-statistic: 0.522\n"
     ]
    }
   ],
   "source": [
    "print(\"T-statistic:\", round(t_stat, 3))"
   ]
  },
  {
   "cell_type": "code",
   "execution_count": 82,
   "id": "03549842-56ee-456a-8af3-b4c13446a9f0",
   "metadata": {},
   "outputs": [
    {
     "name": "stdout",
     "output_type": "stream",
     "text": [
      "P-value: 0.614\n"
     ]
    }
   ],
   "source": [
    "print(\"P-value:\", round(p_value, 3))"
   ]
  },
  {
   "cell_type": "code",
   "execution_count": 84,
   "id": "065da640-6f20-43d9-8a47-b9df37f03d94",
   "metadata": {},
   "outputs": [
    {
     "name": "stdout",
     "output_type": "stream",
     "text": [
      "T-statistic: 0.522\n",
      "P-value: 0.614\n"
     ]
    }
   ],
   "source": [
    "# Sample data\n",
    "the_average_patient_wait_time = [32, 29, 31, 34, 33, 27, 30, 28, 35, 26]\n",
    "\n",
    "# Perform one-sample t-test\n",
    "t_stat, p_value = stats.ttest_1samp(the_average_patient_wait_time, popmean=30)\n",
    "\n",
    "print(\"T-statistic:\", round(t_stat, 3))\n",
    "print(\"P-value:\", round(p_value, 3))\n"
   ]
  },
  {
   "cell_type": "markdown",
   "id": "f78bd916-cd6d-4923-87f0-d0613bea8af2",
   "metadata": {},
   "source": [
    "● State the null and alternative hypotheses. "
   ]
  },
  {
   "cell_type": "code",
   "execution_count": null,
   "id": "9839ead8-372a-4d1a-80cd-f726287fdcd3",
   "metadata": {},
   "outputs": [],
   "source": [
    "#the null hypothses=30\n"
   ]
  },
  {
   "cell_type": "markdown",
   "id": "70bf9d40-e409-4fde-9d81-bd69eba8c219",
   "metadata": {},
   "source": [
    "6. A survey was conducted on hospital cleanliness and patient satisfaction. The \n",
    "following data was collected: "
   ]
  },
  {
   "cell_type": "code",
   "execution_count": 102,
   "id": "6c98ba43-9722-4cd8-a5fd-c8ccd5af80f9",
   "metadata": {},
   "outputs": [],
   "source": [
    "import pandas as pd\n",
    "data={\"Cleanliness Rating\":['High','Medium','Low'],\n",
    "      \"Satisfied Patients\":[90,60,30],\n",
    "      \"Unsatisfied Patients\":[10,40,70]}\n",
    "                            "
   ]
  },
  {
   "cell_type": "code",
   "execution_count": 106,
   "id": "538c45aa-fecc-4efc-9f99-ea3b9852c3c2",
   "metadata": {},
   "outputs": [],
   "source": [
    "df=pd.DataFrame(data)"
   ]
  },
  {
   "cell_type": "code",
   "execution_count": 108,
   "id": "1d0efdd1-4c65-4a28-b74d-461fc706b177",
   "metadata": {},
   "outputs": [
    {
     "data": {
      "text/html": [
       "<div>\n",
       "<style scoped>\n",
       "    .dataframe tbody tr th:only-of-type {\n",
       "        vertical-align: middle;\n",
       "    }\n",
       "\n",
       "    .dataframe tbody tr th {\n",
       "        vertical-align: top;\n",
       "    }\n",
       "\n",
       "    .dataframe thead th {\n",
       "        text-align: right;\n",
       "    }\n",
       "</style>\n",
       "<table border=\"1\" class=\"dataframe\">\n",
       "  <thead>\n",
       "    <tr style=\"text-align: right;\">\n",
       "      <th></th>\n",
       "      <th>Cleanliness Rating</th>\n",
       "      <th>Satisfied Patients</th>\n",
       "      <th>Unsatisfied Patients</th>\n",
       "    </tr>\n",
       "  </thead>\n",
       "  <tbody>\n",
       "    <tr>\n",
       "      <th>0</th>\n",
       "      <td>High</td>\n",
       "      <td>90</td>\n",
       "      <td>10</td>\n",
       "    </tr>\n",
       "    <tr>\n",
       "      <th>1</th>\n",
       "      <td>Medium</td>\n",
       "      <td>60</td>\n",
       "      <td>40</td>\n",
       "    </tr>\n",
       "    <tr>\n",
       "      <th>2</th>\n",
       "      <td>Low</td>\n",
       "      <td>30</td>\n",
       "      <td>70</td>\n",
       "    </tr>\n",
       "  </tbody>\n",
       "</table>\n",
       "</div>"
      ],
      "text/plain": [
       "  Cleanliness Rating  Satisfied Patients  Unsatisfied Patients\n",
       "0               High                  90                    10\n",
       "1             Medium                  60                    40\n",
       "2                Low                  30                    70"
      ]
     },
     "execution_count": 108,
     "metadata": {},
     "output_type": "execute_result"
    }
   ],
   "source": [
    "df"
   ]
  },
  {
   "cell_type": "code",
   "execution_count": 110,
   "id": "b5027ab9-5aca-4ce7-8e25-6f3e348feadd",
   "metadata": {},
   "outputs": [
    {
     "name": "stdout",
     "output_type": "stream",
     "text": [
      "Chi-square Statistic: 75.0\n",
      "Degrees of Freedom: 2\n",
      "P-value: 5.175555005801876e-17\n",
      "Expected Frequencies:\n",
      " [[60. 40.]\n",
      " [60. 40.]\n",
      " [60. 40.]]\n"
     ]
    }
   ],
   "source": [
    "\n",
    "from scipy.stats import chi2_contingency\n",
    "\n",
    "# Step 1: Create the contingency table\n",
    "data = [[90, 10],\n",
    "        [60, 40],\n",
    "        [30, 70]]\n",
    "\n",
    "# Step 2: Perform the chi-square test\n",
    "chi2_stat, p_value, dof, expected = chi2_contingency(data)\n",
    "\n",
    "# Step 3: Display results\n",
    "print(\"Chi-square Statistic:\", chi2_stat)\n",
    "print(\"Degrees of Freedom:\", dof)\n",
    "print(\"P-value:\", p_value)\n",
    "print(\"Expected Frequencies:\\n\", expected)\n"
   ]
  },
  {
   "cell_type": "markdown",
   "id": "10f27d75-3a79-45c9-b5dd-8b6fd28430ef",
   "metadata": {},
   "source": [
    "7. The hospital tested three different treatment methods (A, B, and C) for managing \n",
    "post-surgery pain. The recovery durations (in days) under each treatment are: "
   ]
  },
  {
   "cell_type": "code",
   "execution_count": 1,
   "id": "7c1e6ca4-1cb6-4202-87ee-d00400923163",
   "metadata": {},
   "outputs": [],
   "source": [
    "import scipy.stats as stats\n",
    "\n",
    "Treatment_A=[5, 6, 7, 5, 6] \n",
    "Treatment_B=[8, 9, 7, 8, 10] \n",
    "Treatment_C=[4, 5, 6, 5, 4] "
   ]
  },
  {
   "cell_type": "code",
   "execution_count": 120,
   "id": "8131e6e4-c90b-41df-8b1f-179e9139088c",
   "metadata": {},
   "outputs": [
    {
     "data": {
      "text/plain": [
       "(19.18518518518518, 0.0001828254331459655)"
      ]
     },
     "execution_count": 120,
     "metadata": {},
     "output_type": "execute_result"
    }
   ],
   "source": [
    "f_statistic, p_value = stats.f_oneway(Treatment_A, Treatment_B, Treatment_C)\n",
    "f_statistic, p_value"
   ]
  },
  {
   "cell_type": "code",
   "execution_count": null,
   "id": "1dfa3da2-0624-474c-aa7d-adce7c39f5ca",
   "metadata": {},
   "outputs": [],
   "source": []
  }
 ],
 "metadata": {
  "kernelspec": {
   "display_name": "Python [conda env:base] *",
   "language": "python",
   "name": "conda-base-py"
  },
  "language_info": {
   "codemirror_mode": {
    "name": "ipython",
    "version": 3
   },
   "file_extension": ".py",
   "mimetype": "text/x-python",
   "name": "python",
   "nbconvert_exporter": "python",
   "pygments_lexer": "ipython3",
   "version": "3.12.7"
  }
 },
 "nbformat": 4,
 "nbformat_minor": 5
}
